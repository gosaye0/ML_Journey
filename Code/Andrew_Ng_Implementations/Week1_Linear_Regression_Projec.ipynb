{
 "cells": [
  {
   "cell_type": "markdown",
   "id": "40fc3e07-b8e2-47a4-8ac8-7b766e79e910",
   "metadata": {},
   "source": [
    "## 1. Problem Statement\n",
    "Predict medical insurance costs (`expenses`) based on a single feature (`age` or `bmi`) using linear regression."
   ]
  },
  {
   "cell_type": "markdown",
   "id": "38ff4fa2-59b6-4f77-84b4-f1c0d00af8e9",
   "metadata": {},
   "source": [
    "## 2. Tools\n",
    "- Pandas: to load and prepare the data\n",
    "- NumPy: for scientific computing\n",
    "- Matplotlib: for visualization"
   ]
  },
  {
   "cell_type": "code",
   "execution_count": 3,
   "id": "e697c9cd-98a7-4d67-87fc-5cbaa033b9d7",
   "metadata": {},
   "outputs": [],
   "source": [
    "import pandas as pd\n",
    "import numpy as np\n",
    "import matplotlib.pyplot as plt\n",
    "import math"
   ]
  },
  {
   "cell_type": "markdown",
   "id": "27a5325a-e68d-4137-a488-1511f9e49717",
   "metadata": {},
   "source": [
    "## 3. Data loading and preparation\n",
    "Load the dataset using pandas and prepare for model"
   ]
  },
  {
   "cell_type": "code",
   "execution_count": 5,
   "id": "01d29fa2-e957-4ab1-916c-c72f3a044192",
   "metadata": {},
   "outputs": [],
   "source": [
    "data = pd.read_csv(\"C:/Users/gossa/Documents/ML_Journey/Datasets/insurance.csv\")"
   ]
  },
  {
   "cell_type": "code",
   "execution_count": 6,
   "id": "8da233de-69d0-47ba-93ef-3466e4b75ad3",
   "metadata": {},
   "outputs": [
    {
     "data": {
      "text/html": [
       "<div>\n",
       "<style scoped>\n",
       "    .dataframe tbody tr th:only-of-type {\n",
       "        vertical-align: middle;\n",
       "    }\n",
       "\n",
       "    .dataframe tbody tr th {\n",
       "        vertical-align: top;\n",
       "    }\n",
       "\n",
       "    .dataframe thead th {\n",
       "        text-align: right;\n",
       "    }\n",
       "</style>\n",
       "<table border=\"1\" class=\"dataframe\">\n",
       "  <thead>\n",
       "    <tr style=\"text-align: right;\">\n",
       "      <th></th>\n",
       "      <th>age</th>\n",
       "      <th>sex</th>\n",
       "      <th>bmi</th>\n",
       "      <th>children</th>\n",
       "      <th>smoker</th>\n",
       "      <th>region</th>\n",
       "      <th>charges</th>\n",
       "    </tr>\n",
       "  </thead>\n",
       "  <tbody>\n",
       "    <tr>\n",
       "      <th>0</th>\n",
       "      <td>19</td>\n",
       "      <td>female</td>\n",
       "      <td>27.900</td>\n",
       "      <td>0</td>\n",
       "      <td>yes</td>\n",
       "      <td>southwest</td>\n",
       "      <td>16884.92400</td>\n",
       "    </tr>\n",
       "    <tr>\n",
       "      <th>1</th>\n",
       "      <td>18</td>\n",
       "      <td>male</td>\n",
       "      <td>33.770</td>\n",
       "      <td>1</td>\n",
       "      <td>no</td>\n",
       "      <td>southeast</td>\n",
       "      <td>1725.55230</td>\n",
       "    </tr>\n",
       "    <tr>\n",
       "      <th>2</th>\n",
       "      <td>28</td>\n",
       "      <td>male</td>\n",
       "      <td>33.000</td>\n",
       "      <td>3</td>\n",
       "      <td>no</td>\n",
       "      <td>southeast</td>\n",
       "      <td>4449.46200</td>\n",
       "    </tr>\n",
       "    <tr>\n",
       "      <th>3</th>\n",
       "      <td>33</td>\n",
       "      <td>male</td>\n",
       "      <td>22.705</td>\n",
       "      <td>0</td>\n",
       "      <td>no</td>\n",
       "      <td>northwest</td>\n",
       "      <td>21984.47061</td>\n",
       "    </tr>\n",
       "    <tr>\n",
       "      <th>4</th>\n",
       "      <td>32</td>\n",
       "      <td>male</td>\n",
       "      <td>28.880</td>\n",
       "      <td>0</td>\n",
       "      <td>no</td>\n",
       "      <td>northwest</td>\n",
       "      <td>3866.85520</td>\n",
       "    </tr>\n",
       "  </tbody>\n",
       "</table>\n",
       "</div>"
      ],
      "text/plain": [
       "   age     sex     bmi  children smoker     region      charges\n",
       "0   19  female  27.900         0    yes  southwest  16884.92400\n",
       "1   18    male  33.770         1     no  southeast   1725.55230\n",
       "2   28    male  33.000         3     no  southeast   4449.46200\n",
       "3   33    male  22.705         0     no  northwest  21984.47061\n",
       "4   32    male  28.880         0     no  northwest   3866.85520"
      ]
     },
     "execution_count": 6,
     "metadata": {},
     "output_type": "execute_result"
    }
   ],
   "source": [
    "# See the top five rows of the data\n",
    "data.head()"
   ]
  },
  {
   "cell_type": "code",
   "execution_count": 7,
   "id": "1f8084b1-bec7-47b8-9e19-ef95f4be7b79",
   "metadata": {},
   "outputs": [
    {
     "name": "stdout",
     "output_type": "stream",
     "text": [
      "<class 'pandas.core.frame.DataFrame'>\n",
      "RangeIndex: 1338 entries, 0 to 1337\n",
      "Data columns (total 7 columns):\n",
      " #   Column    Non-Null Count  Dtype  \n",
      "---  ------    --------------  -----  \n",
      " 0   age       1338 non-null   int64  \n",
      " 1   sex       1338 non-null   object \n",
      " 2   bmi       1338 non-null   float64\n",
      " 3   children  1338 non-null   int64  \n",
      " 4   smoker    1338 non-null   object \n",
      " 5   region    1338 non-null   object \n",
      " 6   charges   1338 non-null   float64\n",
      "dtypes: float64(2), int64(2), object(3)\n",
      "memory usage: 73.3+ KB\n"
     ]
    }
   ],
   "source": [
    "# See general information about the dataset\n",
    "data.info()"
   ]
  },
  {
   "cell_type": "markdown",
   "id": "08f79ad4-067e-419b-8fbb-7e865fcaad38",
   "metadata": {},
   "source": [
    "Our data is clean later we will see if there is ouliers or abnormality in the dataset"
   ]
  },
  {
   "cell_type": "markdown",
   "id": "fb2f53c7-58bc-4f0f-8fb2-d82e5038b8ad",
   "metadata": {},
   "source": [
    "### Selecting feature and target\n",
    "In this case let's take `bmi` as feature and `charges` as target"
   ]
  },
  {
   "cell_type": "code",
   "execution_count": 10,
   "id": "33777ce1-dda6-4b88-942b-fbc5542f1fbf",
   "metadata": {},
   "outputs": [],
   "source": [
    "# Let's select our feature and target and store the values in numpy array\n",
    "x = data['age'].values\n",
    "y = data['charges'].values"
   ]
  },
  {
   "cell_type": "code",
   "execution_count": null,
   "id": "b83a0c0c-6296-4e5a-9fba-f0f5c61cb461",
   "metadata": {},
   "outputs": [],
   "source": []
  },
  {
   "cell_type": "markdown",
   "id": "eeaf231b-ceff-419b-9901-2e3d3436e0e8",
   "metadata": {},
   "source": [
    "### Visualize the row data\n",
    "Visualizing the row data help us to detect outliers"
   ]
  },
  {
   "cell_type": "code",
   "execution_count": 12,
   "id": "157ab551-b055-4fa2-99f5-ec8c5d76cefa",
   "metadata": {},
   "outputs": [
    {
     "data": {
      "text/plain": [
       "<function matplotlib.pyplot.title(label: 'str', fontdict: 'dict[str, Any] | None' = None, loc: \"Literal['left', 'center', 'right'] | None\" = None, pad: 'float | None' = None, *, y: 'float | None' = None, **kwargs) -> 'Text'>"
      ]
     },
     "execution_count": 12,
     "metadata": {},
     "output_type": "execute_result"
    },
    {
     "data": {
      "image/png": "[encoded data removed]",
      "text/plain": [
       "<Figure size 600x400 with 1 Axes>"
      ]
     },
     "metadata": {},
     "output_type": "display_data"
    }
   ],
   "source": [
    "# Let's set up some styles for the graph\n",
    "plt.style.use('seaborn-v0_8-muted')\n",
    "plt.figure(figsize=(6, 4), dpi=100)\n",
    "\n",
    "plt.scatter(x, y, marker = 'x', c = 'steelblue', s = 10)\n",
    "plt.title"
   ]
  },
  {
   "cell_type": "markdown",
   "id": "a59d5efc-0255-46ed-804e-65d96a6a51fb",
   "metadata": {},
   "source": [
    "## 4. Linear regression\n",
    "Let's apply a simple regression model `f(x) = wx + b`. From this we will determine `w` and `b` using gradient descent algorithm. "
   ]
  },
  {
   "cell_type": "markdown",
   "id": "e0163fe2-c9d7-4a4d-ba26-435381bb81ad",
   "metadata": {},
   "source": [
    "### Compute cost function\n",
    "$$ J(w,b) = \\frac{1}{2m} \\sum_{i=1}^m (f_{w,b}(x^{(i)}) - y^{(i)})^2 $$\n",
    "Where:\n",
    "$$ f_{w,b}(x) = wx + b $$\n",
    "- **$w$**: Weight (slope)  \n",
    "- **$b$**: Bias (y-intercept)  \n",
    "- **$x$**: Input feature "
   ]
  },
  {
   "cell_type": "code",
   "execution_count": 15,
   "id": "65664e24-ccea-4b34-8bf5-6b96908f2467",
   "metadata": {},
   "outputs": [],
   "source": [
    "def cost_function(x, y, w, b):\n",
    "    \"\"\"compute cost function\n",
    "    Args:\n",
    "    x (ndarray (m, )): feature data\n",
    "    y (ndarray (m, )): target data\n",
    "    w, b (float): function parameters\n",
    "\n",
    "    returns:\n",
    "    total cost (scalar)\n",
    "    \"\"\"\n",
    "    m = len(x)\n",
    "    f_wb = w*x + b\n",
    "    \n",
    "    total_cost = (1/(2*m)) * np.sum((f_wb - y)**2)\n",
    "    return total_cost"
   ]
  },
  {
   "cell_type": "code",
   "execution_count": null,
   "id": "17b5f4af-38b5-4319-90ab-8bdfc4e34e56",
   "metadata": {},
   "outputs": [],
   "source": []
  },
  {
   "cell_type": "markdown",
   "id": "3b8aa995-2966-4ee9-8caa-52559a4fdbc7",
   "metadata": {},
   "source": [
    "### Compute gradient function\n",
    "$$ \\frac{\\partial}{\\partial w} J(w,b) = \\frac{1}{m} \\sum_{i=1}^m (f_{w,b}(x^{(i)}) - y^{(i)})x^{(i)} $$\n",
    "$$ \\frac{\\partial}{\\partial b} J(w,b) = \\frac{1}{m} \\sum_{i=1}^m (f_{w,b}(x^{(i)}) - y^{(i)}) $$\n"
   ]
  },
  {
   "cell_type": "code",
   "execution_count": 17,
   "id": "018edc18-7dbe-433a-b5b8-5aaee485df9f",
   "metadata": {},
   "outputs": [],
   "source": [
    "def gradient_function(x, y, w, b):\n",
    "    \"\"\"\n",
    "    compute the partial derivative of the cost function with respect to w and b\n",
    "    Args:\n",
    "    x (ndarray (m, )): feature data\n",
    "    y (ndarray (m, )): target data\n",
    "    w, b (float): function parameters\n",
    "\n",
    "    Returns:\n",
    "    dj_dw (scalar): The gradient of the cost w.r.t. the parameters w\n",
    "    dj_db (scalar): The gradient of the cost w.r.t. the parameter b\n",
    "    \"\"\"\n",
    "    m = len(x)\n",
    "    f_wb = w*x + b\n",
    "\n",
    "    dj_dw = (1/m) * np.sum((f_wb - y) * x)\n",
    "    dj_db = (1/m) * np.sum(f_wb - y)\n",
    "\n",
    "    return dj_dw, dj_db"
   ]
  },
  {
   "cell_type": "markdown",
   "id": "deb7940c-7111-4b2b-901c-f1d45be23127",
   "metadata": {},
   "source": [
    "### Geadient descent\n",
    "$$ w := w - \\alpha \\frac{\\partial}{\\partial w} J(w,b) $$\n",
    "$$ b := b - \\alpha \\frac{\\partial}{\\partial b} J(w,b) $$"
   ]
  },
  {
   "cell_type": "code",
   "execution_count": 19,
   "id": "2a8733bf-b3e2-4774-9b11-72785ef662fc",
   "metadata": {},
   "outputs": [],
   "source": [
    "def gradient_descent(x, y, w_in, b_in, alpha, iterations, cost_function, gradient_function):\n",
    "    \"\"\"  \n",
    "    Performs gradient descent to fit w,b. Updates w,b by taking \n",
    "    iteration gradient steps with learning rate alpha\n",
    "    \n",
    "    Args:\n",
    "      x (ndarray (m,))  : Data, m examples \n",
    "      y (ndarray (m,))  : target values\n",
    "      w_in,b_in (scalar): initial values of model parameters  \n",
    "      alpha (float):     Learning rate\n",
    "      iterations (int):   number of iterations to run gradient descent\n",
    "      cost_function:     function to call to produce cost\n",
    "      gradient_function: function to call to produce gradient\n",
    "\n",
    "    Returns:\n",
    "      w (scalar): Updated value of parameter after running gradient descent\n",
    "      b (scalar): Updated value of parameter after running gradient descent\n",
    "      J_history (List): History of cost values\n",
    "      p_history (list): History of parameters [w,b] \n",
    "      \"\"\"\n",
    "    w = w_in\n",
    "    b = b_in\n",
    "    j_history = []\n",
    "    p_history = []\n",
    "\n",
    "    for i in range(iterations):\n",
    "        dj_dw, dj_db = gradient_function(x, y, w, b)\n",
    "        w -= alpha * dj_dw\n",
    "        b -= alpha * dj_db\n",
    "\n",
    "        j_history.append(cost_function(x, y, w, b))\n",
    "        if i % math.ceil(iterations/10) == 0:\n",
    "            print(f\"Iteration {i:5}: cost {cost_function(x, y, w, b):0.2e}:dj_dw {dj_dw:0.3e}:\"\n",
    "                 f\"dj_db {dj_db:0.3e}:w {w:0.3e}: b {b:0.4e}\")\n",
    "\n",
    "    return w, b"
   ]
  },
  {
   "cell_type": "code",
   "execution_count": 20,
   "id": "6e022bf0-3bd7-4644-856e-b2aaab0d6f10",
   "metadata": {},
   "outputs": [
    {
     "name": "stdout",
     "output_type": "stream",
     "text": [
      "Iteration     0: cost 2.52e+10:dj_dw -5.711e+05:dj_db -1.327e+04:w 5.711e+03: b 1.3270e+02\n",
      "Iteration  1000: cost nan:dj_dw nan:dj_db nan:w nan: b nan\n",
      "Iteration  2000: cost nan:dj_dw nan:dj_db nan:w nan: b nan\n"
     ]
    },
    {
     "name": "stderr",
     "output_type": "stream",
     "text": [
      "C:\\Users\\gossa\\anaconda3\\Lib\\site-packages\\numpy\\core\\fromnumeric.py:88: RuntimeWarning: overflow encountered in reduce\n",
      "  return ufunc.reduce(obj, axis, dtype, out, **passkwargs)\n",
      "C:\\Users\\gossa\\AppData\\Local\\Temp\\ipykernel_3292\\1259810058.py:14: RuntimeWarning: overflow encountered in square\n",
      "  total_cost = (1/(2*m)) * np.sum((f_wb - y)**2)\n",
      "C:\\Users\\gossa\\AppData\\Local\\Temp\\ipykernel_3292\\3162998416.py:28: RuntimeWarning: invalid value encountered in scalar subtract\n",
      "  w -= alpha * dj_dw\n"
     ]
    },
    {
     "name": "stdout",
     "output_type": "stream",
     "text": [
      "Iteration  3000: cost nan:dj_dw nan:dj_db nan:w nan: b nan\n",
      "Iteration  4000: cost nan:dj_dw nan:dj_db nan:w nan: b nan\n",
      "Iteration  5000: cost nan:dj_dw nan:dj_db nan:w nan: b nan\n",
      "Iteration  6000: cost nan:dj_dw nan:dj_db nan:w nan: b nan\n",
      "Iteration  7000: cost nan:dj_dw nan:dj_db nan:w nan: b nan\n",
      "Iteration  8000: cost nan:dj_dw nan:dj_db nan:w nan: b nan\n",
      "Iteration  9000: cost nan:dj_dw nan:dj_db nan:w nan: b nan\n"
     ]
    },
    {
     "data": {
      "text/plain": [
       "(nan, nan)"
      ]
     },
     "execution_count": 20,
     "metadata": {},
     "output_type": "execute_result"
    }
   ],
   "source": [
    "w_in = 0\n",
    "b_in = 0\n",
    "alpha = 1e-2\n",
    "iterations = 10000\n",
    "gradient_descent(x, y, w_in, b_in, alpha, iterations, cost_function, gradient_function)"
   ]
  },
  {
   "cell_type": "code",
   "execution_count": null,
   "id": "087d3726-9e21-4964-abb2-7c05d5a01add",
   "metadata": {},
   "outputs": [],
   "source": []
  }
 ],
 "metadata": {
  "kernelspec": {
   "display_name": "Python [conda env:base] *",
   "language": "python",
   "name": "conda-base-py"
  },
  "language_info": {
   "codemirror_mode": {
    "name": "ipython",
    "version": 3
   },
   "file_extension": ".py",
   "mimetype": "text/x-python",
   "name": "python",
   "nbconvert_exporter": "python",
   "pygments_lexer": "ipython3",
   "version": "3.12.7"
  }
 },
 "nbformat": 4,
 "nbformat_minor": 5
}
