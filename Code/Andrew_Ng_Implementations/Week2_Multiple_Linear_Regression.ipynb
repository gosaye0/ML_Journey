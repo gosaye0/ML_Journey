{
 "cells": [
  {
   "cell_type": "code",
   "execution_count": 1,
   "id": "d5c52ed8-62aa-4924-953f-298fa46011ce",
   "metadata": {},
   "outputs": [],
   "source": [
    "import pandas as pd\n",
    "import numpy as np\n",
    "import matplotlib.pyplot as plt"
   ]
  },
  {
   "cell_type": "code",
   "execution_count": 2,
   "id": "51825e4a-12e1-4cb8-ac16-bfa5c439e970",
   "metadata": {},
   "outputs": [
    {
     "name": "stdout",
     "output_type": "stream",
     "text": [
      "   Feature_1  Feature_2  Feature_3  Feature_4  Feature_5    Target\n",
      "0   0.374540   0.950714   0.731994   0.598658   0.156019  5.638660\n",
      "1   0.155995   0.058084   0.866176   0.601115   0.708073  6.600883\n",
      "2   0.020584   0.969910   0.832443   0.212339   0.181825  3.402824\n",
      "3   0.183405   0.304242   0.524756   0.431945   0.291229  3.529416\n",
      "4   0.611853   0.139494   0.292145   0.366362   0.456070  5.118992\n",
      "True weights (theta): [ 3  2 -1  4  5]\n"
     ]
    }
   ],
   "source": [
    "# Step 1: Set random seed for reproducibility\n",
    "np.random.seed(42)\n",
    "\n",
    "# Step 2: Generate synthetic data (features X)\n",
    "m = 100  # Number of samples\n",
    "n = 5  # Number of features\n",
    "\n",
    "# Generate random feature data (X) - 100 samples, 5 features\n",
    "X = np.random.rand(m, n)\n",
    "\n",
    "# Step 3: Define true weights (theta) for the features\n",
    "theta_true = np.array([3, 2, -1, 4, 5]).reshape(-1, 1)\n",
    "\n",
    "# Step 4: Generate the target variable (y) with some noise\n",
    "noise = np.random.randn(m, 1) * 0.5  # Gaussian noise\n",
    "y = X.dot(theta_true) + noise  # Linear model with noise\n",
    "\n",
    "# Step 5: Create a DataFrame to display the data\n",
    "df = pd.DataFrame(X, columns=[f'Feature_{i+1}' for i in range(n)])\n",
    "df['Target'] = y\n",
    "\n",
    "# Show the first few rows of the dataset\n",
    "print(df.head())\n",
    "\n",
    "# Show the true weights (theta)\n",
    "print(\"True weights (theta):\", theta_true.flatten())"
   ]
  },
  {
   "cell_type": "code",
   "execution_count": 3,
   "id": "eb62a47f-fcb4-49d2-8cef-d375f7a10df5",
   "metadata": {},
   "outputs": [],
   "source": [
    "df_train = df[['Feature_1', 'Feature_2', 'Feature_3', 'Feature_4', 'Feature_5']]"
   ]
  },
  {
   "cell_type": "code",
   "execution_count": 4,
   "id": "95c51709-c3bd-4c78-ac79-af419fbddd23",
   "metadata": {},
   "outputs": [
    {
     "data": {
      "text/html": [
       "<div>\n",
       "<style scoped>\n",
       "    .dataframe tbody tr th:only-of-type {\n",
       "        vertical-align: middle;\n",
       "    }\n",
       "\n",
       "    .dataframe tbody tr th {\n",
       "        vertical-align: top;\n",
       "    }\n",
       "\n",
       "    .dataframe thead th {\n",
       "        text-align: right;\n",
       "    }\n",
       "</style>\n",
       "<table border=\"1\" class=\"dataframe\">\n",
       "  <thead>\n",
       "    <tr style=\"text-align: right;\">\n",
       "      <th></th>\n",
       "      <th>Feature_1</th>\n",
       "      <th>Feature_2</th>\n",
       "      <th>Feature_3</th>\n",
       "      <th>Feature_4</th>\n",
       "      <th>Feature_5</th>\n",
       "    </tr>\n",
       "  </thead>\n",
       "  <tbody>\n",
       "    <tr>\n",
       "      <th>0</th>\n",
       "      <td>0.374540</td>\n",
       "      <td>0.950714</td>\n",
       "      <td>0.731994</td>\n",
       "      <td>0.598658</td>\n",
       "      <td>0.156019</td>\n",
       "    </tr>\n",
       "    <tr>\n",
       "      <th>1</th>\n",
       "      <td>0.155995</td>\n",
       "      <td>0.058084</td>\n",
       "      <td>0.866176</td>\n",
       "      <td>0.601115</td>\n",
       "      <td>0.708073</td>\n",
       "    </tr>\n",
       "    <tr>\n",
       "      <th>2</th>\n",
       "      <td>0.020584</td>\n",
       "      <td>0.969910</td>\n",
       "      <td>0.832443</td>\n",
       "      <td>0.212339</td>\n",
       "      <td>0.181825</td>\n",
       "    </tr>\n",
       "    <tr>\n",
       "      <th>3</th>\n",
       "      <td>0.183405</td>\n",
       "      <td>0.304242</td>\n",
       "      <td>0.524756</td>\n",
       "      <td>0.431945</td>\n",
       "      <td>0.291229</td>\n",
       "    </tr>\n",
       "    <tr>\n",
       "      <th>4</th>\n",
       "      <td>0.611853</td>\n",
       "      <td>0.139494</td>\n",
       "      <td>0.292145</td>\n",
       "      <td>0.366362</td>\n",
       "      <td>0.456070</td>\n",
       "    </tr>\n",
       "  </tbody>\n",
       "</table>\n",
       "</div>"
      ],
      "text/plain": [
       "   Feature_1  Feature_2  Feature_3  Feature_4  Feature_5\n",
       "0   0.374540   0.950714   0.731994   0.598658   0.156019\n",
       "1   0.155995   0.058084   0.866176   0.601115   0.708073\n",
       "2   0.020584   0.969910   0.832443   0.212339   0.181825\n",
       "3   0.183405   0.304242   0.524756   0.431945   0.291229\n",
       "4   0.611853   0.139494   0.292145   0.366362   0.456070"
      ]
     },
     "execution_count": 4,
     "metadata": {},
     "output_type": "execute_result"
    }
   ],
   "source": [
    "df_train.head()"
   ]
  },
  {
   "cell_type": "code",
   "execution_count": 5,
   "id": "ac84a96e-b90a-4fc2-ab69-660c77bb082c",
   "metadata": {},
   "outputs": [],
   "source": [
    "df_target = df['Target']"
   ]
  },
  {
   "cell_type": "code",
   "execution_count": 6,
   "id": "83a21980-ae7e-4b90-9501-5c0aa50cf73e",
   "metadata": {},
   "outputs": [
    {
     "data": {
      "text/plain": [
       "0    5.638660\n",
       "1    6.600883\n",
       "2    3.402824\n",
       "3    3.529416\n",
       "4    5.118992\n",
       "Name: Target, dtype: float64"
      ]
     },
     "execution_count": 6,
     "metadata": {},
     "output_type": "execute_result"
    }
   ],
   "source": [
    "df_target.head()"
   ]
  },
  {
   "cell_type": "code",
   "execution_count": 7,
   "id": "cf1f72b2-6cec-4e35-8044-38ea38c0c549",
   "metadata": {},
   "outputs": [],
   "source": [
    "X_train = df_train.values\n",
    "y = df_target.values"
   ]
  },
  {
   "cell_type": "code",
   "execution_count": 8,
   "id": "8d9fd740-8cf6-46b1-ad52-415562f826fe",
   "metadata": {},
   "outputs": [],
   "source": [
    "def cost_function(x, y, w, b):\n",
    "    m = len(y)\n",
    "    f_wb = x.dot(w) + b\n",
    "    cost = np.sum((f_wb - y)**2)\n",
    "    total_cost = 1/(2*m) * cost\n",
    "    return total_cost"
   ]
  },
  {
   "cell_type": "code",
   "execution_count": 9,
   "id": "eadc2bd2-23bf-4853-b655-16e1501abb22",
   "metadata": {},
   "outputs": [
    {
     "data": {
      "text/plain": [
       "0.14590884331656717"
      ]
     },
     "execution_count": 9,
     "metadata": {},
     "output_type": "execute_result"
    }
   ],
   "source": [
    "# w_true = np.array([3, 2, -1, 4, 5])\n",
    "# b = 0\n",
    "# cost_function(X_train, y, w_true, b)"
   ]
  },
  {
   "cell_type": "code",
   "execution_count": 10,
   "id": "a244df25-0099-496b-8e72-7e929908e3c8",
   "metadata": {},
   "outputs": [],
   "source": [
    "def gradient_function(x, y, w, b):\n",
    "    m = len(y)\n",
    "    f_wb = x.dot(w) + b\n",
    "    error = f_wb - y\n",
    "    dj_dw = 1/m * x.T.dot(error)\n",
    "    dj_db = 1/m * np.sum(error)\n",
    "    return dj_dw, dj_db"
   ]
  },
  {
   "cell_type": "code",
   "execution_count": 11,
   "id": "b0c14da3-9d33-4820-9847-3e32ae0ea3d3",
   "metadata": {},
   "outputs": [
    {
     "data": {
      "text/plain": [
       "(array([-3.48742375, -3.41621774, -2.96895283, -3.81504735, -3.42300547]),\n",
       " -6.423808775055636)"
      ]
     },
     "execution_count": 11,
     "metadata": {},
     "output_type": "execute_result"
    }
   ],
   "source": [
    "# w_true = np.array([0, 0, 0, 0, 0])\n",
    "# b = 0\n",
    "# gradient_function(X_train, y, w_true, b)"
   ]
  },
  {
   "cell_type": "code",
   "execution_count": 14,
   "id": "944bc78e-5323-43c7-80da-cc1ba333f197",
   "metadata": {},
   "outputs": [],
   "source": [
    "def gradient_descent(x, y, w_in, b_in, alpha, num_iters, cost_function, gradient_function):\n",
    "    cost_history = []\n",
    "    w = w_in\n",
    "    b = b_in\n",
    "    \n",
    "    for i in range(num_iters):\n",
    "        dj_dw, dj_db = gradient_function(x, y, w, b)\n",
    "        w -= alpha * dj_dw\n",
    "        b -= alpha * dj_db\n",
    "\n",
    "        cost_history.append(cost_function(x, y, w, b))\n",
    "    return w, b, cost_history  "
   ]
  },
  {
   "cell_type": "code",
   "execution_count": 72,
   "id": "9ce7efcb-c887-4458-9978-912b1a09df3d",
   "metadata": {},
   "outputs": [
    {
     "name": "stdout",
     "output_type": "stream",
     "text": [
      "Final values of w is: [ 2.86852534  1.78771603 -0.76846665  4.01913119  4.84288822]\n",
      "Final value of b is: 0.11860596874677819\n"
     ]
    },
    {
     "data": {
      "image/png": "[encoded data removed]",
      "text/plain": [
       "<Figure size 640x480 with 1 Axes>"
      ]
     },
     "metadata": {},
     "output_type": "display_data"
    }
   ],
   "source": [
    "w_in = np.array([0., 0, 0, 0, 0])\n",
    "b_in = 0\n",
    "alpha = 8.0e-1\n",
    "iterations = 100000\n",
    "w_final, b_final, j_history = gradient_descent(X_train, y, w_in, b_in, alpha, iterations, \n",
    "                                               cost_function, gradient_function)\n",
    "print(f\"Final values of w is: {w_final.flatten()}\")\n",
    "print(f\"Final value of b is: {b_final}\")\n",
    "plt.plot(j_history[:1000]);"
   ]
  },
  {
   "cell_type": "code",
   "execution_count": 74,
   "id": "ee864f73-97c1-4ecb-8cf8-6d98a4a07082",
   "metadata": {},
   "outputs": [],
   "source": [
    "y_pred = X_train.dot(w_final) + b_final"
   ]
  },
  {
   "cell_type": "code",
   "execution_count": 78,
   "id": "9624a4f2-7d56-4959-805a-ddfa43ef0b09",
   "metadata": {},
   "outputs": [
    {
     "data": {
      "image/png": "[encoded data removed]",
      "text/plain": [
       "<Figure size 640x480 with 1 Axes>"
      ]
     },
     "metadata": {},
     "output_type": "display_data"
    }
   ],
   "source": [
    "plt.scatter(y, y_pred, color='blue')\n",
    "plt.plot([min(y), max(y)], [min(y), max(y)], color='red', linestyle='--')  # Identity line\n",
    "plt.xlabel(\"Actual Values\")\n",
    "plt.ylabel(\"Predicted Values\")\n",
    "plt.title(\"Predicted vs Actual\")\n",
    "plt.grid(True)"
   ]
  },
  {
   "cell_type": "code",
   "execution_count": null,
   "id": "aba5111c-270b-4642-844b-d9c5a7221ca0",
   "metadata": {},
   "outputs": [],
   "source": []
  }
 ],
 "metadata": {
  "kernelspec": {
   "display_name": "Python [conda env:base] *",
   "language": "python",
   "name": "conda-base-py"
  },
  "language_info": {
   "codemirror_mode": {
    "name": "ipython",
    "version": 3
   },
   "file_extension": ".py",
   "mimetype": "text/x-python",
   "name": "python",
   "nbconvert_exporter": "python",
   "pygments_lexer": "ipython3",
   "version": "3.12.7"
  }
 },
 "nbformat": 4,
 "nbformat_minor": 5
}
