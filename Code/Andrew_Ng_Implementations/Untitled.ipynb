{
 "cells": [
  {
   "cell_type": "code",
   "execution_count": 1,
   "id": "7985ea86-909a-437d-92f1-94b9c58d1ec4",
   "metadata": {},
   "outputs": [],
   "source": [
    "import pandas as pd\n",
    "import numpy as np\n",
    "import matplotlib.pyplot as plt\n",
    "import math\n",
    "np.set_printoptions(precision=4)"
   ]
  },
  {
   "cell_type": "code",
   "execution_count": 3,
   "id": "f1b72134-964d-4552-b57b-6e5f8488d2a3",
   "metadata": {},
   "outputs": [
    {
     "data": {
      "image/png": "[encoded data removed]",
      "text/plain": [
       "<Figure size 640x480 with 1 Axes>"
      ]
     },
     "metadata": {},
     "output_type": "display_data"
    }
   ],
   "source": [
    "# Create sample data: x from 1 to 10\n",
    "X = np.array([1, 2, 3, 4, 5, 6, 7, 8, 9, 10]).reshape(-1, 1)\n",
    "y = np.array([1, 4, 9, 16, 25, 36, 49, 64, 81, 100])  # Quadratic relationship (y = x^2)\n",
    "\n",
    "# Plot the data to visualize the curve\n",
    "plt.scatter(X, y, color='blue')\n",
    "plt.title(\"Original Data: y = x^2\")\n",
    "plt.xlabel(\"X\")\n",
    "plt.ylabel(\"y\")\n",
    "plt.show()\n"
   ]
  },
  {
   "cell_type": "code",
   "execution_count": 7,
   "id": "90f06cbb-325d-40f4-a8ed-171ffe7de3bf",
   "metadata": {},
   "outputs": [],
   "source": [
    "X_poly = np.hstack((X, X**2))"
   ]
  },
  {
   "cell_type": "code",
   "execution_count": 9,
   "id": "cddcaae3-e8c0-4178-be6a-fe9ea6e74af5",
   "metadata": {},
   "outputs": [
    {
     "data": {
      "text/plain": [
       "array([[  1,   1],\n",
       "       [  2,   4],\n",
       "       [  3,   9],\n",
       "       [  4,  16],\n",
       "       [  5,  25],\n",
       "       [  6,  36],\n",
       "       [  7,  49],\n",
       "       [  8,  64],\n",
       "       [  9,  81],\n",
       "       [ 10, 100]])"
      ]
     },
     "execution_count": 9,
     "metadata": {},
     "output_type": "execute_result"
    }
   ],
   "source": [
    "X_poly"
   ]
  },
  {
   "cell_type": "code",
   "execution_count": 11,
   "id": "7e1d0815-9476-412b-b531-ab7cc0137337",
   "metadata": {},
   "outputs": [],
   "source": [
    "def cost_function(x, y, w, b):\n",
    "    m = len(y)\n",
    "    f_wb = x.dot(w) + b\n",
    "    error = f_wb - y\n",
    "    cost = 1/(2*m) + np.sum(error ** 2)\n",
    "\n",
    "    return cost"
   ]
  },
  {
   "cell_type": "code",
   "execution_count": 17,
   "id": "c2081ba6-29a7-403b-b61c-07c6c56cada3",
   "metadata": {},
   "outputs": [
    {
     "data": {
      "text/plain": [
       "0.05"
      ]
     },
     "execution_count": 17,
     "metadata": {},
     "output_type": "execute_result"
    }
   ],
   "source": [
    "# w = np.array([0, 1])\n",
    "# b = 0\n",
    "# cost_function(X_poly, y, w, b)"
   ]
  },
  {
   "cell_type": "code",
   "execution_count": 23,
   "id": "95db66bb-72bf-428a-a2e2-f7bf8f0643bc",
   "metadata": {},
   "outputs": [],
   "source": [
    "def gradient_function(x, y, w, b):\n",
    "    m = len(y)\n",
    "    f_wb = x.dot(w) + b\n",
    "    error = f_wb - y\n",
    "    dj_dw = 1/m * x.T.dot(error)\n",
    "    dj_db = 1/m * np.sum(error)\n",
    "\n",
    "    return dj_dw, dj_db"
   ]
  },
  {
   "cell_type": "code",
   "execution_count": 29,
   "id": "0940731a-43b3-41cf-b077-7198c13452b3",
   "metadata": {},
   "outputs": [
    {
     "data": {
      "text/plain": [
       "(array([0., 0.]), 0.0)"
      ]
     },
     "execution_count": 29,
     "metadata": {},
     "output_type": "execute_result"
    }
   ],
   "source": [
    "# w = np.array([0, 1])\n",
    "# b = 0\n",
    "# gradient_function(X_poly, y, w, b)"
   ]
  },
  {
   "cell_type": "code",
   "execution_count": 51,
   "id": "12bbd27d-97e2-4b99-9074-b7ea12136496",
   "metadata": {},
   "outputs": [],
   "source": [
    "def gradient_descent(x, y, w_in, b_in, a, num_iters, cost_function, gradient_function):\n",
    "    w = w_in\n",
    "    b = b_in\n",
    "    J_history = []\n",
    "    for i in range(num_iters):\n",
    "        dj_dw, dj_db = gradient_function(x, y, w, b)\n",
    "        w -= a * dj_dw\n",
    "        b -= b * dj_db\n",
    "\n",
    "        J_history.append(cost_function(x, y, w, b))\n",
    "        if i % math.ceil(num_iters/10) == 0:\n",
    "            print(f\"iteration: {i:5}, cost: {J_history[-1]}\")\n",
    "\n",
    "    return w, b, J_history"
   ]
  },
  {
   "cell_type": "code",
   "execution_count": 65,
   "id": "3c508bb4-2302-4bee-bb09-a608a8b4f31e",
   "metadata": {},
   "outputs": [
    {
     "name": "stdout",
     "output_type": "stream",
     "text": [
      "iteration:     0, cost: 13987.307435791197\n",
      "iteration: 100000, cost: 0.05\n",
      "iteration: 200000, cost: 0.05\n",
      "iteration: 300000, cost: 0.05\n",
      "iteration: 400000, cost: 0.05\n",
      "iteration: 500000, cost: 0.05\n",
      "iteration: 600000, cost: 0.05\n",
      "iteration: 700000, cost: 0.05\n",
      "iteration: 800000, cost: 0.05\n",
      "iteration: 900000, cost: 0.05\n",
      "Final value of w is: [2.5224e-14 1.0000e+00]\n",
      "Final value of b is: 0.0\n"
     ]
    }
   ],
   "source": [
    "w_initial = np.array([0., 0])\n",
    "b_initial = 0\n",
    "alpha = 1.0e-4\n",
    "iterations = 1000000\n",
    "w_final, b_final, cost_history = gradient_descent(X_poly, y, w_initial, b_initial, alpha, \n",
    "                                                  iterations, cost_function, gradient_function)\n",
    "print(f\"Final value of w is: {w_final.flatten()}\")\n",
    "print(f\"Final value of b is: {b_final}\")"
   ]
  },
  {
   "cell_type": "code",
   "execution_count": 67,
   "id": "898ed275-f95d-4417-bd28-97e0455d343e",
   "metadata": {},
   "outputs": [],
   "source": [
    "y_pred = X_poly.dot(w_final) + b_final"
   ]
  },
  {
   "cell_type": "code",
   "execution_count": 69,
   "id": "752a649b-95b4-4c4f-a184-3645f3f77554",
   "metadata": {},
   "outputs": [
    {
     "data": {
      "text/plain": [
       "Text(0, 0.5, 'y')"
      ]
     },
     "execution_count": 69,
     "metadata": {},
     "output_type": "execute_result"
    },
    {
     "data": {
      "image/png": "[encoded data removed]",
      "text/plain": [
       "<Figure size 640x480 with 1 Axes>"
      ]
     },
     "metadata": {},
     "output_type": "display_data"
    }
   ],
   "source": [
    "plt.scatter(X, y, color='blue')\n",
    "plt.plot(X, y_pred, color = 'red')\n",
    "plt.title(\"Original Data: y = x^2\")\n",
    "plt.xlabel(\"X\")\n",
    "plt.ylabel(\"y\")"
   ]
  },
  {
   "cell_type": "code",
   "execution_count": null,
   "id": "87e9b118-61d1-4881-a155-3e7e4cd95785",
   "metadata": {},
   "outputs": [],
   "source": []
  }
 ],
 "metadata": {
  "kernelspec": {
   "display_name": "Python [conda env:base] *",
   "language": "python",
   "name": "conda-base-py"
  },
  "language_info": {
   "codemirror_mode": {
    "name": "ipython",
    "version": 3
   },
   "file_extension": ".py",
   "mimetype": "text/x-python",
   "name": "python",
   "nbconvert_exporter": "python",
   "pygments_lexer": "ipython3",
   "version": "3.12.7"
  }
 },
 "nbformat": 4,
 "nbformat_minor": 5
}
